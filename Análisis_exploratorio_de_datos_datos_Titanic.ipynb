{
  "nbformat": 4,
  "nbformat_minor": 0,
  "metadata": {
    "colab": {
      "provenance": [],
      "include_colab_link": true
    },
    "kernelspec": {
      "display_name": "Python 3",
      "language": "python",
      "name": "python3"
    },
    "language_info": {
      "codemirror_mode": {
        "name": "ipython",
        "version": 3
      },
      "file_extension": ".py",
      "mimetype": "text/x-python",
      "name": "python",
      "nbconvert_exporter": "python",
      "pygments_lexer": "ipython3",
      "version": "3.7.6"
    }
  },
  "cells": [
    {
      "cell_type": "markdown",
      "metadata": {
        "id": "view-in-github",
        "colab_type": "text"
      },
      "source": [
        "<a href=\"https://colab.research.google.com/github/Nicolas20Torres/Guia_1/blob/master/An%C3%A1lisis_exploratorio_de_datos_datos_Titanic.ipynb\" target=\"_parent\"><img src=\"https://colab.research.google.com/assets/colab-badge.svg\" alt=\"Open In Colab\"/></a>"
      ]
    },
    {
      "cell_type": "markdown",
      "metadata": {
        "id": "22zXjFMRkUkJ"
      },
      "source": [
        "<img src = \"https://universidadean.edu.co/sites/default/files/noticias/galeria/Logo-Universidad-Ean-fondo-negro-Galeria_1.jpg\" alt = \"Encabezado MLDS\" width = \"30%\">  </img>\n"
      ]
    },
    {
      "cell_type": "markdown",
      "metadata": {
        "id": "_kGiUp-aXlZU"
      },
      "source": [
        "#**Entendimiento de los datos**\n",
        "---\n",
        "\n",
        "El desarrollo de las actividades de esta guía le permitirá poner en práctica herramientas de organización y visualización de datos. A través de la construcción de diferentes gráficas y el cálculo de medidas descriptivas como la media, la mediana, la moda, la varianza y la desviación estándar, será posible obtener una visión general de las características principales de los datos, permitiendo identificar patrones y tendencias.\n",
        "\n",
        "Se trabajará sobre la base de datos *Titanic*, que contiene datos relacionados con los pasajeros y tripulantes a bordo del RMS Titanic, un transatlántico británico que naufragó en el año 1912.\n",
        "\n",
        "\n",
        "| Variable | Definición | Valores | Tipo de variable |\n",
        "| --- | --- | --- | --- |\n",
        "| survived \\| alive | Sobreviviente | [0\\|no] = No, [1\\|yes] = Sí | Cualitativo |\n",
        "| pclass \\| class | Clase del tiquete | 1 = [1\\|First], 2 = [2\\|Second], 3 = [3\\|Third] | Cualitativo |\n",
        "| sex | Sexo | 'male', 'female' | Cualitativo |\n",
        "| Age | Edad en años | | Cuantitativo |\n",
        "| sibsp | Número de hermanos / cónyuge abordo del Titanic | | Cuantitativo |\n",
        "| parch | Número de padres / hijos abordo del Titanic | | Cuantitativo |\n",
        "| fare | Costo del ticket | | Cuantitativo |\n",
        "| embarked | Puerto de embarque | C = Cherbourg, Q = Queenstown, S = Southampton | Cualitativo |\n",
        "| who | Si es hombre, mujer o niño. | 'man', 'woman', 'child' | Cualitativo |\n",
        "| adult_male | Si es un hombre mayor de edad. | True, False | Cualitativo |\n",
        "| deck | Identificación de la cubierta/cabina. | 'A', 'B', 'C', 'D', 'E', 'F', 'G' | Cualitativo |\n",
        "| alone | Si había embarcado solo. | True, False | Cualitativo |\n"
      ]
    },
    {
      "cell_type": "markdown",
      "metadata": {
        "id": "Lz6RiA6hiuMU"
      },
      "source": [
        "Ejecute la siguiente celda para importar las librerías necesarias. Si se requiere de librerías adicionales puede anexarlas a la celda."
      ]
    },
    {
      "cell_type": "code",
      "metadata": {
        "id": "UeHIJwQs9Ew1"
      },
      "source": [
        "# Importar librerías (EJECUTE ESTA CELDA)\n",
        "import numpy as np\n",
        "import pandas as pd\n",
        "import seaborn as sns\n",
        "import matplotlib as mpl\n",
        "import matplotlib.pyplot as plt\n",
        "%matplotlib inline\n"
      ],
      "execution_count": 40,
      "outputs": []
    },
    {
      "cell_type": "code",
      "metadata": {
        "id": "hMRTRILm9Hu8",
        "colab": {
          "base_uri": "https://localhost:8080/"
        },
        "outputId": "5d304df5-6157-4e20-9271-e3b7b2e7bf1d"
      },
      "source": [
        "#VERIFICACIÓN DE VERSIONES\n",
        "!python --version\n",
        "print('Pandas', pd.__version__)\n",
        "print('NumPy', np.__version__)\n",
        "print('Seaborn', sns.__version__)\n",
        "print('Matplotlib', mpl.__version__)"
      ],
      "execution_count": 41,
      "outputs": [
        {
          "output_type": "stream",
          "name": "stdout",
          "text": [
            "Python 3.10.12\n",
            "Pandas 2.1.4\n",
            "NumPy 1.26.4\n",
            "Seaborn 0.13.1\n",
            "Matplotlib 3.7.1\n"
          ]
        }
      ]
    },
    {
      "cell_type": "markdown",
      "metadata": {
        "id": "SyVY0vdCjm1R"
      },
      "source": [
        "Este material fue realizado con las siguientes versiones:\n",
        "\n",
        "- Python 3.10.12\n",
        "\n",
        "- Pandas: 2.0.3\n",
        "\n",
        "- Numpy: 1.25.2\n",
        "\n",
        "- Seaborn: 0.13.1\n",
        "\n",
        "- Matplotlib: 3.7.1"
      ]
    },
    {
      "cell_type": "markdown",
      "source": [
        "Para cargar los datos ejecute la siguiente celda."
      ],
      "metadata": {
        "id": "yTZz0dZ_FgaX"
      }
    },
    {
      "cell_type": "code",
      "source": [
        "#df1 = sns.load_dataset('titanic', data_home='./')\n",
        "df1 = sns.load_dataset(\"titanic\")\n",
        "df1.head()"
      ],
      "metadata": {
        "colab": {
          "base_uri": "https://localhost:8080/",
          "height": 206
        },
        "id": "LthIBm52CVKG",
        "outputId": "4606dec6-d5ff-4cd0-98c4-f78c83a42f4f"
      },
      "execution_count": 42,
      "outputs": [
        {
          "output_type": "execute_result",
          "data": {
            "text/plain": [
              "   survived  pclass     sex   age  sibsp  parch     fare embarked  class  \\\n",
              "0         0       3    male  22.0      1      0   7.2500        S  Third   \n",
              "1         1       1  female  38.0      1      0  71.2833        C  First   \n",
              "2         1       3  female  26.0      0      0   7.9250        S  Third   \n",
              "3         1       1  female  35.0      1      0  53.1000        S  First   \n",
              "4         0       3    male  35.0      0      0   8.0500        S  Third   \n",
              "\n",
              "     who  adult_male deck  embark_town alive  alone  \n",
              "0    man        True  NaN  Southampton    no  False  \n",
              "1  woman       False    C    Cherbourg   yes  False  \n",
              "2  woman       False  NaN  Southampton   yes   True  \n",
              "3  woman       False    C  Southampton   yes  False  \n",
              "4    man        True  NaN  Southampton    no   True  "
            ],
            "text/html": [
              "\n",
              "  <div id=\"df-eedace50-b343-45e0-a05f-785b3552233d\" class=\"colab-df-container\">\n",
              "    <div>\n",
              "<style scoped>\n",
              "    .dataframe tbody tr th:only-of-type {\n",
              "        vertical-align: middle;\n",
              "    }\n",
              "\n",
              "    .dataframe tbody tr th {\n",
              "        vertical-align: top;\n",
              "    }\n",
              "\n",
              "    .dataframe thead th {\n",
              "        text-align: right;\n",
              "    }\n",
              "</style>\n",
              "<table border=\"1\" class=\"dataframe\">\n",
              "  <thead>\n",
              "    <tr style=\"text-align: right;\">\n",
              "      <th></th>\n",
              "      <th>survived</th>\n",
              "      <th>pclass</th>\n",
              "      <th>sex</th>\n",
              "      <th>age</th>\n",
              "      <th>sibsp</th>\n",
              "      <th>parch</th>\n",
              "      <th>fare</th>\n",
              "      <th>embarked</th>\n",
              "      <th>class</th>\n",
              "      <th>who</th>\n",
              "      <th>adult_male</th>\n",
              "      <th>deck</th>\n",
              "      <th>embark_town</th>\n",
              "      <th>alive</th>\n",
              "      <th>alone</th>\n",
              "    </tr>\n",
              "  </thead>\n",
              "  <tbody>\n",
              "    <tr>\n",
              "      <th>0</th>\n",
              "      <td>0</td>\n",
              "      <td>3</td>\n",
              "      <td>male</td>\n",
              "      <td>22.0</td>\n",
              "      <td>1</td>\n",
              "      <td>0</td>\n",
              "      <td>7.2500</td>\n",
              "      <td>S</td>\n",
              "      <td>Third</td>\n",
              "      <td>man</td>\n",
              "      <td>True</td>\n",
              "      <td>NaN</td>\n",
              "      <td>Southampton</td>\n",
              "      <td>no</td>\n",
              "      <td>False</td>\n",
              "    </tr>\n",
              "    <tr>\n",
              "      <th>1</th>\n",
              "      <td>1</td>\n",
              "      <td>1</td>\n",
              "      <td>female</td>\n",
              "      <td>38.0</td>\n",
              "      <td>1</td>\n",
              "      <td>0</td>\n",
              "      <td>71.2833</td>\n",
              "      <td>C</td>\n",
              "      <td>First</td>\n",
              "      <td>woman</td>\n",
              "      <td>False</td>\n",
              "      <td>C</td>\n",
              "      <td>Cherbourg</td>\n",
              "      <td>yes</td>\n",
              "      <td>False</td>\n",
              "    </tr>\n",
              "    <tr>\n",
              "      <th>2</th>\n",
              "      <td>1</td>\n",
              "      <td>3</td>\n",
              "      <td>female</td>\n",
              "      <td>26.0</td>\n",
              "      <td>0</td>\n",
              "      <td>0</td>\n",
              "      <td>7.9250</td>\n",
              "      <td>S</td>\n",
              "      <td>Third</td>\n",
              "      <td>woman</td>\n",
              "      <td>False</td>\n",
              "      <td>NaN</td>\n",
              "      <td>Southampton</td>\n",
              "      <td>yes</td>\n",
              "      <td>True</td>\n",
              "    </tr>\n",
              "    <tr>\n",
              "      <th>3</th>\n",
              "      <td>1</td>\n",
              "      <td>1</td>\n",
              "      <td>female</td>\n",
              "      <td>35.0</td>\n",
              "      <td>1</td>\n",
              "      <td>0</td>\n",
              "      <td>53.1000</td>\n",
              "      <td>S</td>\n",
              "      <td>First</td>\n",
              "      <td>woman</td>\n",
              "      <td>False</td>\n",
              "      <td>C</td>\n",
              "      <td>Southampton</td>\n",
              "      <td>yes</td>\n",
              "      <td>False</td>\n",
              "    </tr>\n",
              "    <tr>\n",
              "      <th>4</th>\n",
              "      <td>0</td>\n",
              "      <td>3</td>\n",
              "      <td>male</td>\n",
              "      <td>35.0</td>\n",
              "      <td>0</td>\n",
              "      <td>0</td>\n",
              "      <td>8.0500</td>\n",
              "      <td>S</td>\n",
              "      <td>Third</td>\n",
              "      <td>man</td>\n",
              "      <td>True</td>\n",
              "      <td>NaN</td>\n",
              "      <td>Southampton</td>\n",
              "      <td>no</td>\n",
              "      <td>True</td>\n",
              "    </tr>\n",
              "  </tbody>\n",
              "</table>\n",
              "</div>\n",
              "    <div class=\"colab-df-buttons\">\n",
              "\n",
              "  <div class=\"colab-df-container\">\n",
              "    <button class=\"colab-df-convert\" onclick=\"convertToInteractive('df-eedace50-b343-45e0-a05f-785b3552233d')\"\n",
              "            title=\"Convert this dataframe to an interactive table.\"\n",
              "            style=\"display:none;\">\n",
              "\n",
              "  <svg xmlns=\"http://www.w3.org/2000/svg\" height=\"24px\" viewBox=\"0 -960 960 960\">\n",
              "    <path d=\"M120-120v-720h720v720H120Zm60-500h600v-160H180v160Zm220 220h160v-160H400v160Zm0 220h160v-160H400v160ZM180-400h160v-160H180v160Zm440 0h160v-160H620v160ZM180-180h160v-160H180v160Zm440 0h160v-160H620v160Z\"/>\n",
              "  </svg>\n",
              "    </button>\n",
              "\n",
              "  <style>\n",
              "    .colab-df-container {\n",
              "      display:flex;\n",
              "      gap: 12px;\n",
              "    }\n",
              "\n",
              "    .colab-df-convert {\n",
              "      background-color: #E8F0FE;\n",
              "      border: none;\n",
              "      border-radius: 50%;\n",
              "      cursor: pointer;\n",
              "      display: none;\n",
              "      fill: #1967D2;\n",
              "      height: 32px;\n",
              "      padding: 0 0 0 0;\n",
              "      width: 32px;\n",
              "    }\n",
              "\n",
              "    .colab-df-convert:hover {\n",
              "      background-color: #E2EBFA;\n",
              "      box-shadow: 0px 1px 2px rgba(60, 64, 67, 0.3), 0px 1px 3px 1px rgba(60, 64, 67, 0.15);\n",
              "      fill: #174EA6;\n",
              "    }\n",
              "\n",
              "    .colab-df-buttons div {\n",
              "      margin-bottom: 4px;\n",
              "    }\n",
              "\n",
              "    [theme=dark] .colab-df-convert {\n",
              "      background-color: #3B4455;\n",
              "      fill: #D2E3FC;\n",
              "    }\n",
              "\n",
              "    [theme=dark] .colab-df-convert:hover {\n",
              "      background-color: #434B5C;\n",
              "      box-shadow: 0px 1px 3px 1px rgba(0, 0, 0, 0.15);\n",
              "      filter: drop-shadow(0px 1px 2px rgba(0, 0, 0, 0.3));\n",
              "      fill: #FFFFFF;\n",
              "    }\n",
              "  </style>\n",
              "\n",
              "    <script>\n",
              "      const buttonEl =\n",
              "        document.querySelector('#df-eedace50-b343-45e0-a05f-785b3552233d button.colab-df-convert');\n",
              "      buttonEl.style.display =\n",
              "        google.colab.kernel.accessAllowed ? 'block' : 'none';\n",
              "\n",
              "      async function convertToInteractive(key) {\n",
              "        const element = document.querySelector('#df-eedace50-b343-45e0-a05f-785b3552233d');\n",
              "        const dataTable =\n",
              "          await google.colab.kernel.invokeFunction('convertToInteractive',\n",
              "                                                    [key], {});\n",
              "        if (!dataTable) return;\n",
              "\n",
              "        const docLinkHtml = 'Like what you see? Visit the ' +\n",
              "          '<a target=\"_blank\" href=https://colab.research.google.com/notebooks/data_table.ipynb>data table notebook</a>'\n",
              "          + ' to learn more about interactive tables.';\n",
              "        element.innerHTML = '';\n",
              "        dataTable['output_type'] = 'display_data';\n",
              "        await google.colab.output.renderOutput(dataTable, element);\n",
              "        const docLink = document.createElement('div');\n",
              "        docLink.innerHTML = docLinkHtml;\n",
              "        element.appendChild(docLink);\n",
              "      }\n",
              "    </script>\n",
              "  </div>\n",
              "\n",
              "\n",
              "<div id=\"df-b56e6e3d-1768-47cb-964e-a0fd6f337fb9\">\n",
              "  <button class=\"colab-df-quickchart\" onclick=\"quickchart('df-b56e6e3d-1768-47cb-964e-a0fd6f337fb9')\"\n",
              "            title=\"Suggest charts\"\n",
              "            style=\"display:none;\">\n",
              "\n",
              "<svg xmlns=\"http://www.w3.org/2000/svg\" height=\"24px\"viewBox=\"0 0 24 24\"\n",
              "     width=\"24px\">\n",
              "    <g>\n",
              "        <path d=\"M19 3H5c-1.1 0-2 .9-2 2v14c0 1.1.9 2 2 2h14c1.1 0 2-.9 2-2V5c0-1.1-.9-2-2-2zM9 17H7v-7h2v7zm4 0h-2V7h2v10zm4 0h-2v-4h2v4z\"/>\n",
              "    </g>\n",
              "</svg>\n",
              "  </button>\n",
              "\n",
              "<style>\n",
              "  .colab-df-quickchart {\n",
              "      --bg-color: #E8F0FE;\n",
              "      --fill-color: #1967D2;\n",
              "      --hover-bg-color: #E2EBFA;\n",
              "      --hover-fill-color: #174EA6;\n",
              "      --disabled-fill-color: #AAA;\n",
              "      --disabled-bg-color: #DDD;\n",
              "  }\n",
              "\n",
              "  [theme=dark] .colab-df-quickchart {\n",
              "      --bg-color: #3B4455;\n",
              "      --fill-color: #D2E3FC;\n",
              "      --hover-bg-color: #434B5C;\n",
              "      --hover-fill-color: #FFFFFF;\n",
              "      --disabled-bg-color: #3B4455;\n",
              "      --disabled-fill-color: #666;\n",
              "  }\n",
              "\n",
              "  .colab-df-quickchart {\n",
              "    background-color: var(--bg-color);\n",
              "    border: none;\n",
              "    border-radius: 50%;\n",
              "    cursor: pointer;\n",
              "    display: none;\n",
              "    fill: var(--fill-color);\n",
              "    height: 32px;\n",
              "    padding: 0;\n",
              "    width: 32px;\n",
              "  }\n",
              "\n",
              "  .colab-df-quickchart:hover {\n",
              "    background-color: var(--hover-bg-color);\n",
              "    box-shadow: 0 1px 2px rgba(60, 64, 67, 0.3), 0 1px 3px 1px rgba(60, 64, 67, 0.15);\n",
              "    fill: var(--button-hover-fill-color);\n",
              "  }\n",
              "\n",
              "  .colab-df-quickchart-complete:disabled,\n",
              "  .colab-df-quickchart-complete:disabled:hover {\n",
              "    background-color: var(--disabled-bg-color);\n",
              "    fill: var(--disabled-fill-color);\n",
              "    box-shadow: none;\n",
              "  }\n",
              "\n",
              "  .colab-df-spinner {\n",
              "    border: 2px solid var(--fill-color);\n",
              "    border-color: transparent;\n",
              "    border-bottom-color: var(--fill-color);\n",
              "    animation:\n",
              "      spin 1s steps(1) infinite;\n",
              "  }\n",
              "\n",
              "  @keyframes spin {\n",
              "    0% {\n",
              "      border-color: transparent;\n",
              "      border-bottom-color: var(--fill-color);\n",
              "      border-left-color: var(--fill-color);\n",
              "    }\n",
              "    20% {\n",
              "      border-color: transparent;\n",
              "      border-left-color: var(--fill-color);\n",
              "      border-top-color: var(--fill-color);\n",
              "    }\n",
              "    30% {\n",
              "      border-color: transparent;\n",
              "      border-left-color: var(--fill-color);\n",
              "      border-top-color: var(--fill-color);\n",
              "      border-right-color: var(--fill-color);\n",
              "    }\n",
              "    40% {\n",
              "      border-color: transparent;\n",
              "      border-right-color: var(--fill-color);\n",
              "      border-top-color: var(--fill-color);\n",
              "    }\n",
              "    60% {\n",
              "      border-color: transparent;\n",
              "      border-right-color: var(--fill-color);\n",
              "    }\n",
              "    80% {\n",
              "      border-color: transparent;\n",
              "      border-right-color: var(--fill-color);\n",
              "      border-bottom-color: var(--fill-color);\n",
              "    }\n",
              "    90% {\n",
              "      border-color: transparent;\n",
              "      border-bottom-color: var(--fill-color);\n",
              "    }\n",
              "  }\n",
              "</style>\n",
              "\n",
              "  <script>\n",
              "    async function quickchart(key) {\n",
              "      const quickchartButtonEl =\n",
              "        document.querySelector('#' + key + ' button');\n",
              "      quickchartButtonEl.disabled = true;  // To prevent multiple clicks.\n",
              "      quickchartButtonEl.classList.add('colab-df-spinner');\n",
              "      try {\n",
              "        const charts = await google.colab.kernel.invokeFunction(\n",
              "            'suggestCharts', [key], {});\n",
              "      } catch (error) {\n",
              "        console.error('Error during call to suggestCharts:', error);\n",
              "      }\n",
              "      quickchartButtonEl.classList.remove('colab-df-spinner');\n",
              "      quickchartButtonEl.classList.add('colab-df-quickchart-complete');\n",
              "    }\n",
              "    (() => {\n",
              "      let quickchartButtonEl =\n",
              "        document.querySelector('#df-b56e6e3d-1768-47cb-964e-a0fd6f337fb9 button');\n",
              "      quickchartButtonEl.style.display =\n",
              "        google.colab.kernel.accessAllowed ? 'block' : 'none';\n",
              "    })();\n",
              "  </script>\n",
              "</div>\n",
              "\n",
              "    </div>\n",
              "  </div>\n"
            ],
            "application/vnd.google.colaboratory.intrinsic+json": {
              "type": "dataframe",
              "variable_name": "df1",
              "summary": "{\n  \"name\": \"df1\",\n  \"rows\": 891,\n  \"fields\": [\n    {\n      \"column\": \"survived\",\n      \"properties\": {\n        \"dtype\": \"number\",\n        \"std\": 0,\n        \"min\": 0,\n        \"max\": 1,\n        \"num_unique_values\": 2,\n        \"samples\": [\n          1,\n          0\n        ],\n        \"semantic_type\": \"\",\n        \"description\": \"\"\n      }\n    },\n    {\n      \"column\": \"pclass\",\n      \"properties\": {\n        \"dtype\": \"number\",\n        \"std\": 0,\n        \"min\": 1,\n        \"max\": 3,\n        \"num_unique_values\": 3,\n        \"samples\": [\n          3,\n          1\n        ],\n        \"semantic_type\": \"\",\n        \"description\": \"\"\n      }\n    },\n    {\n      \"column\": \"sex\",\n      \"properties\": {\n        \"dtype\": \"category\",\n        \"num_unique_values\": 2,\n        \"samples\": [\n          \"female\",\n          \"male\"\n        ],\n        \"semantic_type\": \"\",\n        \"description\": \"\"\n      }\n    },\n    {\n      \"column\": \"age\",\n      \"properties\": {\n        \"dtype\": \"number\",\n        \"std\": 14.526497332334042,\n        \"min\": 0.42,\n        \"max\": 80.0,\n        \"num_unique_values\": 88,\n        \"samples\": [\n          0.75,\n          22.0\n        ],\n        \"semantic_type\": \"\",\n        \"description\": \"\"\n      }\n    },\n    {\n      \"column\": \"sibsp\",\n      \"properties\": {\n        \"dtype\": \"number\",\n        \"std\": 1,\n        \"min\": 0,\n        \"max\": 8,\n        \"num_unique_values\": 7,\n        \"samples\": [\n          1,\n          0\n        ],\n        \"semantic_type\": \"\",\n        \"description\": \"\"\n      }\n    },\n    {\n      \"column\": \"parch\",\n      \"properties\": {\n        \"dtype\": \"number\",\n        \"std\": 0,\n        \"min\": 0,\n        \"max\": 6,\n        \"num_unique_values\": 7,\n        \"samples\": [\n          0,\n          1\n        ],\n        \"semantic_type\": \"\",\n        \"description\": \"\"\n      }\n    },\n    {\n      \"column\": \"fare\",\n      \"properties\": {\n        \"dtype\": \"number\",\n        \"std\": 49.6934285971809,\n        \"min\": 0.0,\n        \"max\": 512.3292,\n        \"num_unique_values\": 248,\n        \"samples\": [\n          11.2417,\n          51.8625\n        ],\n        \"semantic_type\": \"\",\n        \"description\": \"\"\n      }\n    },\n    {\n      \"column\": \"embarked\",\n      \"properties\": {\n        \"dtype\": \"category\",\n        \"num_unique_values\": 3,\n        \"samples\": [\n          \"S\",\n          \"C\"\n        ],\n        \"semantic_type\": \"\",\n        \"description\": \"\"\n      }\n    },\n    {\n      \"column\": \"class\",\n      \"properties\": {\n        \"dtype\": \"category\",\n        \"num_unique_values\": 3,\n        \"samples\": [\n          \"Third\",\n          \"First\"\n        ],\n        \"semantic_type\": \"\",\n        \"description\": \"\"\n      }\n    },\n    {\n      \"column\": \"who\",\n      \"properties\": {\n        \"dtype\": \"category\",\n        \"num_unique_values\": 3,\n        \"samples\": [\n          \"man\",\n          \"woman\"\n        ],\n        \"semantic_type\": \"\",\n        \"description\": \"\"\n      }\n    },\n    {\n      \"column\": \"adult_male\",\n      \"properties\": {\n        \"dtype\": \"boolean\",\n        \"num_unique_values\": 2,\n        \"samples\": [\n          false,\n          true\n        ],\n        \"semantic_type\": \"\",\n        \"description\": \"\"\n      }\n    },\n    {\n      \"column\": \"deck\",\n      \"properties\": {\n        \"dtype\": \"category\",\n        \"num_unique_values\": 7,\n        \"samples\": [\n          \"C\",\n          \"E\"\n        ],\n        \"semantic_type\": \"\",\n        \"description\": \"\"\n      }\n    },\n    {\n      \"column\": \"embark_town\",\n      \"properties\": {\n        \"dtype\": \"category\",\n        \"num_unique_values\": 3,\n        \"samples\": [\n          \"Southampton\",\n          \"Cherbourg\"\n        ],\n        \"semantic_type\": \"\",\n        \"description\": \"\"\n      }\n    },\n    {\n      \"column\": \"alive\",\n      \"properties\": {\n        \"dtype\": \"category\",\n        \"num_unique_values\": 2,\n        \"samples\": [\n          \"yes\",\n          \"no\"\n        ],\n        \"semantic_type\": \"\",\n        \"description\": \"\"\n      }\n    },\n    {\n      \"column\": \"alone\",\n      \"properties\": {\n        \"dtype\": \"boolean\",\n        \"num_unique_values\": 2,\n        \"samples\": [\n          true,\n          false\n        ],\n        \"semantic_type\": \"\",\n        \"description\": \"\"\n      }\n    }\n  ]\n}"
            }
          },
          "metadata": {},
          "execution_count": 42
        }
      ]
    },
    {
      "cell_type": "markdown",
      "source": [
        "**Nombres de los integrantes del grupo (Completar)**"
      ],
      "metadata": {
        "id": "6ZNWRALlSrzz"
      }
    },
    {
      "cell_type": "markdown",
      "metadata": {
        "id": "is3esgp0XlZ9"
      },
      "source": [
        "##**1. Entendimiento de los datos**\n",
        "---\n",
        "> Haga una exploración de las variables con el método **`.info()`**.   \n",
        "En esta parte se requiere hacer una revisión de la base de datos donde se muestre entre otras cosas:  \n",
        "\n",
        "1.  Número total de variables que contiene la base de datos.  \n",
        "\n",
        "2. Escribir las variables que tienen datos faltantes, además, proporcionar el porcentaje total de valores faltantes en la base de datos.\n",
        "3. Clasificar las variables en cualitativas y numéricas.  \n",
        "\n",
        "4. Consultar y proponer una metodología de *imputación* de datos para la variable *age*, indique la conveniencia o no de aplicar una metodología de este tipo.  \n",
        "\n",
        "**`Nota:`** Sobre el punto 4, no es necesario relizar el proceso de imputación, solo explicar la propuesta de imputación.\n"
      ]
    },
    {
      "cell_type": "code",
      "source": [
        "# Escriba aquí el código para realizar en análisis solicitado\n",
        "df1.info()\n"
      ],
      "metadata": {
        "id": "qt42c3B8RL0E",
        "colab": {
          "base_uri": "https://localhost:8080/"
        },
        "outputId": "9b4fddc4-7689-47d6-dd94-9ddb16fc750b"
      },
      "execution_count": 43,
      "outputs": [
        {
          "output_type": "stream",
          "name": "stdout",
          "text": [
            "<class 'pandas.core.frame.DataFrame'>\n",
            "RangeIndex: 891 entries, 0 to 890\n",
            "Data columns (total 15 columns):\n",
            " #   Column       Non-Null Count  Dtype   \n",
            "---  ------       --------------  -----   \n",
            " 0   survived     891 non-null    int64   \n",
            " 1   pclass       891 non-null    int64   \n",
            " 2   sex          891 non-null    object  \n",
            " 3   age          714 non-null    float64 \n",
            " 4   sibsp        891 non-null    int64   \n",
            " 5   parch        891 non-null    int64   \n",
            " 6   fare         891 non-null    float64 \n",
            " 7   embarked     889 non-null    object  \n",
            " 8   class        891 non-null    category\n",
            " 9   who          891 non-null    object  \n",
            " 10  adult_male   891 non-null    bool    \n",
            " 11  deck         203 non-null    category\n",
            " 12  embark_town  889 non-null    object  \n",
            " 13  alive        891 non-null    object  \n",
            " 14  alone        891 non-null    bool    \n",
            "dtypes: bool(2), category(2), float64(2), int64(4), object(5)\n",
            "memory usage: 80.7+ KB\n"
          ]
        }
      ]
    },
    {
      "cell_type": "code",
      "source": [
        "# Identificar el total de valores faltantes y su porcentaje\n",
        "total_faltantes = df1.isnull().sum()\n",
        "porcentaje_faltantes = (total_faltantes / len(df1)) * 100\n",
        "# Filtrar variables con datos faltantes\n",
        "faltantes = total_faltantes[total_faltantes > 0]\n",
        "porcentaje_faltantes = porcentaje_faltantes[porcentaje_faltantes > 0]\n",
        "\n",
        "# Mostrar los resultados\n",
        "faltantes, porcentaje_faltantes"
      ],
      "metadata": {
        "colab": {
          "base_uri": "https://localhost:8080/"
        },
        "id": "b6QQr85KL5Gp",
        "outputId": "69890b22-ef1b-41a6-bef9-8a2a996db88f"
      },
      "execution_count": 44,
      "outputs": [
        {
          "output_type": "execute_result",
          "data": {
            "text/plain": [
              "(age            177\n",
              " embarked         2\n",
              " deck           688\n",
              " embark_town      2\n",
              " dtype: int64,\n",
              " age            19.865320\n",
              " embarked        0.224467\n",
              " deck           77.216611\n",
              " embark_town     0.224467\n",
              " dtype: float64)"
            ]
          },
          "metadata": {},
          "execution_count": 44
        }
      ]
    },
    {
      "cell_type": "code",
      "source": [
        "# Clasificacion de variables cualitativas y cualitativas\n",
        "variables_cualitativas = df1.select_dtypes(include=['object', 'category']).columns.tolist()\n",
        "variables_numericas = df1.select_dtypes(include=['int64', 'float64']).columns.tolist()\n",
        "\n",
        "print(f'Variables Cualitativas: {variables_cualitativas}')\n",
        "print(f'Variables Cuantitativas: {variables_numericas}')"
      ],
      "metadata": {
        "colab": {
          "base_uri": "https://localhost:8080/"
        },
        "id": "xUhmj6_EMUlm",
        "outputId": "34a84d34-2579-48af-dd1e-f2bfa7855efd"
      },
      "execution_count": 45,
      "outputs": [
        {
          "output_type": "stream",
          "name": "stdout",
          "text": [
            "Variables Cualitativas: ['sex', 'embarked', 'class', 'who', 'deck', 'embark_town', 'alive']\n",
            "Variables Cuantitativas: ['survived', 'pclass', 'age', 'sibsp', 'parch', 'fare']\n"
          ]
        }
      ]
    },
    {
      "cell_type": "markdown",
      "source": [
        "## **Propuesta de metodologia para imputación de variable age**\n",
        "\n",
        "   ### **Imputación con la media**  \n",
        "   __________________________________________________________________________\n",
        "   **Descripción**: Rellena los valores faltantes de la variable con la media de los valores observados.\n",
        "\n",
        "   **Ventajas**: Fácil de implementar y rápida.\n",
        "\n",
        "   **Desventajas**: No considera la variabilidad de los datos, puede distorsionar la distribución si hay outliers.\n",
        "\n",
        "   ```python\n",
        "   df1['age'].fillna(df1['age'].mean(), inplace=True)\n",
        "   ```\n",
        "\n",
        "   ### **Imputación con la mediana**\n",
        "   __________________________________________________________________________\n",
        "   **Descripción**: Rellena los valores faltantes con la mediana.\n",
        "\n",
        "   **Ventajas**: Robusta frente a outliers.\n",
        "\n",
        "   **Desventajas**: Aunque es más robusta, sigue sin tener en cuenta posibles relaciones con otras variables.\n",
        "\n",
        "   ```python\n",
        "   df1['age'].fillna(df1['age'].median(), inplace=True)\n",
        "   ```\n",
        "   ### **Imputación con la moda**\n",
        "   __________________________________________________________________________\n",
        "   **Descripción**: Se utiliza el valor más frecuente.\n",
        "\n",
        "   **Ventajas**: Útil cuando los valores están muy agrupados alrededor de un valor específico.\n",
        "\n",
        "   **Desventajas**: Puede no ser apropiado para una variable continua como la edad.\n",
        "\n",
        "   ```python\n",
        "   df1['age'].fillna(df1['age'].mode()[0], inplace=True)\n",
        "   ```"
      ],
      "metadata": {
        "id": "4kpt9x9vRtoH"
      }
    },
    {
      "cell_type": "markdown",
      "source": [
        "## **2. Distribución de la tarifa**\n",
        "---\n",
        "\n",
        "1. Represente gráficamente la distribución de la tarifa del tiquete de ingreso de los pasajeros a bordo del *Titanic* por medio de un **histograma**.\n",
        "2. Realice un análisis del histograma obtenido haciendo comentarios sobre la forma, dispersión de los datos y existencia de datos atípicos.\n",
        "\n",
        "**`Nota:`** Tenga en cuenta que la gráfica debe tener como mínimo los siguientes elementos:  \n",
        "- Título o encabezado\n",
        "- Figura o gráfica\n",
        "- Fuente de los datos\n",
        "- Leyendas (si se requiere)  \n"
      ],
      "metadata": {
        "id": "k1sQlZL6Magl"
      }
    },
    {
      "cell_type": "code",
      "source": [
        "# Escriba aquí el código para realizar la gráfica solicitada\n",
        "\n",
        "df1 = sns.load_dataset('titanic')\n",
        "\n",
        "\n",
        "plt.figure(figsize=(10, 6))\n",
        "sns.histplot(df1['fare'], bins=30, kde=True, color='skyblue')\n",
        "\n",
        "plt.title('Distribución de la Tarifa del Tiquete de Ingreso de los Pasajeros del Titanic')\n",
        "plt.xlabel('Tarifa del Tiquete ($)')\n",
        "plt.ylabel('Frecuencia')\n",
        "plt.grid(True)\n",
        "plt.figtext(0.9, -0.1, 'Fuente: Dataset del Titanic de Seaborn', horizontalalignment='right')\n",
        "\n",
        "plt.show()\n"
      ],
      "metadata": {
        "id": "QRgqEWDERQDz",
        "colab": {
          "base_uri": "https://localhost:8080/",
          "height": 650
        },
        "outputId": "076b7c8e-72a4-4bb9-a1b2-b096e7c4ef36"
      },
      "execution_count": 46,
      "outputs": [
        {
          "output_type": "display_data",
          "data": {
            "text/plain": [
              "<Figure size 1000x600 with 1 Axes>"
            ],
            "image/png": "[encoded data removed]"
          },
          "metadata": {}
        }
      ]
    },
    {
      "cell_type": "markdown",
      "source": [
        "##**3. Proporción de sobrevivientes**\n",
        "---\n",
        "\n",
        "1. Represente gráficamente la variable *survived* de la base de datos por medio de un **diagrama de sectores**.\n",
        "2. Realice un análisis del diagrama de sectores señalando la propoción de pasajeros que sobrevivieron y los que no lo hicieron."
      ],
      "metadata": {
        "id": "U3BOdd3JQJ_D"
      }
    },
    {
      "cell_type": "code",
      "source": [
        "df1 = sns.load_dataset('titanic')\n",
        "\n",
        "\n",
        "sobrevivientes = df1['survived'].value_counts()\n",
        "\n",
        "\n",
        "plt.figure(figsize=(7, 7))\n",
        "plt.pie(sobrevivientes, labels=['No Sobrevivió', 'Sobrevivió'], autopct='%1.1f%%', startangle=90, colors=['lightcoral', 'skyblue'])\n",
        "plt.title('Proporción de Sobrevivientes del Titanic')\n",
        "plt.figtext(0.9, -0.1, 'Fuente: Dataset del Titanic de Seaborn', horizontalalignment='right')\n",
        "\n",
        "\n",
        "plt.show()\n"
      ],
      "metadata": {
        "id": "59xMbVCxRAIW",
        "colab": {
          "base_uri": "https://localhost:8080/",
          "height": 748
        },
        "outputId": "a6c81d5d-12a4-4487-ca83-0f744fc6d84c"
      },
      "execution_count": 47,
      "outputs": [
        {
          "output_type": "display_data",
          "data": {
            "text/plain": [
              "<Figure size 700x700 with 1 Axes>"
            ],
            "image/png": "[encoded data removed]"
          },
          "metadata": {}
        }
      ]
    },
    {
      "cell_type": "markdown",
      "source": [
        "## **4. Distribución de pasajeros y tripulación**\n",
        "---\n",
        "Realice una exploración la distribución de los pasajeros y tripulación, distinguiendo por género y edad, y analizando la relación que estas variables tuvieron con su supervivencia.  \n",
        "\n",
        "1. Explorar la distribución de edades para mujeres y hombres en dos gráficas. Se deberá representar mediante dos **histogramas** la edad de los pasajeros en dos gráficas en la misma figura, usando para discriminar las distribuciones la variable categórica sexo (**`sex`**)\n",
        "\n",
        "> * Los diagramas pueden ser construidos como un **`FacetGrid`** de la librería *Seaborn*."
      ],
      "metadata": {
        "id": "5pvnSxuVZl6B"
      }
    },
    {
      "cell_type": "code",
      "source": [
        "import seaborn as sns\n",
        "import matplotlib.pyplot as plt\n",
        "\n",
        "# Cargar dataset Titanic\n",
        "df1 = sns.load_dataset('titanic')\n",
        "\n",
        "# Crear el FacetGrid, dividiendo por columnas 'survived' (0 = no sobrevivió, 1 = sobrevivió)\n",
        "g = sns.FacetGrid(df1, col='survived', height=5, aspect=1.2)\n",
        "\n",
        "# Mapear el histograma de la edad, con distinción por sexo y diferentes colores\n",
        "g.map_dataframe(sns.histplot, x='age', hue='sex', bins=20, palette={'female': 'blue','male': 'red' }, kde=False, alpha=0.7)\n",
        "\n",
        "# Añadir título general para la figura\n",
        "g.fig.suptitle('Distribución de Edades de los Pasajeros del Titanic según Supervivencia', y=1.05)\n",
        "\n",
        "# Ajustar las etiquetas de los ejes\n",
        "g.set_axis_labels('Edad', 'Frecuencia')\n",
        "\n",
        "# Añadir títulos personalizados para cada subgráfico\n",
        "g.set_titles(col_template='Supervivencia: {col_name}')\n",
        "\n",
        "# Crear una figura y un eje para el gráfico pequeño\n",
        "fig = plt.figure()\n",
        "ax = fig.add_axes([0.05, 0.85, 0.2, 0.1])  # [x, y, width, height]\n",
        "\n",
        "# Crear el primer recuadro (mujeres)\n",
        "ax.add_patch(plt.Rectangle((0, 0), 1, 1, facecolor='blue', edgecolor='black',alpha=0.7))\n",
        "ax.text(1.5, 0.5, 'Mujeres', ha='left', va='center', color='black', fontsize=10)\n",
        "\n",
        "# Crear el segundo recuadro (hombres)\n",
        "ax.add_patch(plt.Rectangle((0, 1.5), 1, 1, facecolor='red', edgecolor='black',alpha=0.7))\n",
        "ax.text(1.5, 2.0, 'Hombres', ha='left', va='center', color='black', fontsize=10)\n",
        "\n",
        "# Configurar los ejes del gráfico pequeño\n",
        "ax.set_xlim(0, 3)\n",
        "ax.set_ylim(0, 3)\n",
        "ax.axis('off')  # Ocultar los ejes\n",
        "\n",
        "# Mostrar gráfico principal con el gráfico pequeño\n",
        "plt.show()\n",
        "\n",
        "\n",
        "\n",
        "\n"
      ],
      "metadata": {
        "colab": {
          "base_uri": "https://localhost:8080/",
          "height": 615
        },
        "id": "DU8dD5AYoFYQ",
        "outputId": "6b4683d6-88bd-4d23-9441-0ccd0baec86a"
      },
      "execution_count": 48,
      "outputs": [
        {
          "output_type": "display_data",
          "data": {
            "text/plain": [
              "<Figure size 1200x500 with 2 Axes>"
            ],
            "image/png": "[encoded data removed]"
          },
          "metadata": {}
        },
        {
          "output_type": "display_data",
          "data": {
            "text/plain": [
              "<Figure size 640x480 with 1 Axes>"
            ],
            "image/png": "[encoded data removed]"
          },
          "metadata": {}
        }
      ]
    },
    {
      "cell_type": "markdown",
      "source": [
        "##**5. Primera, segunda y tercera clase**\n",
        "---\n",
        "Cuando ocurre la tragedia, la evacuación se realizó dando prioridad a al registrode clase de los pasajeros. Vamos a explorar la distribución de personas, por edad, que correspondían a cada clase para conocer cómo influyó esto en su supervivencia.\n",
        "\n",
        "1. Debe representar gráficamente la distribución y medidas de posición de las edades de los pasajeros a bordo del *Titanic* en cada clase utilizando una **diagramas de cajas**.\n",
        "**`Nota:`** Dado que se tiene tres clases, se espera que una única gráfica que contenga tres diagramas de caja, esto permitirá la respectiva comparación y análisis."
      ],
      "metadata": {
        "id": "tE2fevXEbus5"
      }
    },
    {
      "cell_type": "code",
      "source": [
        "# Cargar el conjunto de datos del Titanic\n",
        "df1 = sns.load_dataset('titanic')\n",
        "\n",
        "\n",
        "plt.figure(figsize=(10, 6))\n",
        "sns.boxplot(data=df1, x='pclass', y='age', palette='pastel')\n",
        "\n",
        "\n",
        "plt.title('Distribución de Edades de los Pasajeros del Titanic por Clase')\n",
        "plt.xlabel('Clase')\n",
        "plt.ylabel('Edad')\n",
        "plt.grid(True)\n",
        "plt.figtext(0.9, -0.1, 'Fuente: Dataset del Titanic de Seaborn', horizontalalignment='right')\n",
        "\n",
        "\n",
        "plt.show()"
      ],
      "metadata": {
        "colab": {
          "base_uri": "https://localhost:8080/",
          "height": 757
        },
        "id": "cRl5p33yPHDb",
        "outputId": "9f81a7bb-1802-489a-bae4-e19a515dde1c"
      },
      "execution_count": 49,
      "outputs": [
        {
          "output_type": "stream",
          "name": "stderr",
          "text": [
            "<ipython-input-49-414346eb6c8d>:6: FutureWarning: \n",
            "\n",
            "Passing `palette` without assigning `hue` is deprecated and will be removed in v0.14.0. Assign the `x` variable to `hue` and set `legend=False` for the same effect.\n",
            "\n",
            "  sns.boxplot(data=df1, x='pclass', y='age', palette='pastel')\n"
          ]
        },
        {
          "output_type": "display_data",
          "data": {
            "text/plain": [
              "<Figure size 1000x600 with 1 Axes>"
            ],
            "image/png": "[encoded data removed]"
          },
          "metadata": {}
        }
      ]
    },
    {
      "cell_type": "markdown",
      "metadata": {
        "id": "wD8JhrFnXlaL"
      },
      "source": [
        "##**6. Medidas de tendencia central**\n",
        "---\n",
        "1. Calcular el promedio de edad de los pasajeros del Titanic\n",
        "2. Calcular la mediana de la edad de los pasajeros del Titanic.\n",
        "3. Calcular el promedio del costo del tiquete de los pasajeros del Titanic\n",
        "4. Calcular la mediana del costo de los tiquetes de los padajeros del Titanic.\n",
        "5. Conformar un **diccionario** con los resultados de los puntos 1, 2, 3 y 4.\n",
        "6. Comparar la media y mediana de cada una de las variables ¿ Tiene sesgo la distribución de estas variables?"
      ]
    },
    {
      "cell_type": "code",
      "source": [
        "# Escriba aquí el código para calcular las medidas de tendencia central solicitadas\n",
        "edad_promedio = np.mean(df1['age'])\n",
        "edad_mediana = np.median(df1['age'].dropna())\n",
        "tiquete_promedio = np.mean(df1['fare'])\n",
        "tiquete_mediana = np.median(df1['fare'])"
      ],
      "metadata": {
        "id": "kCZITdrLWFrA"
      },
      "execution_count": 50,
      "outputs": []
    },
    {
      "cell_type": "code",
      "source": [
        "# Escriba aquí el código para construir el diccionario solicitado\n",
        "resultados = {\n",
        "    'Promedio Edad': edad_promedio,\n",
        "    'Mediana Edad': edad_mediana,\n",
        "    'Promedio Tiquete': tiquete_promedio,\n",
        "    'Mediana Tiquete': tiquete_mediana\n",
        "}\n",
        "print(f'Resulstado optenido: {resultados}')"
      ],
      "metadata": {
        "id": "ugq_dS5TWRz-",
        "colab": {
          "base_uri": "https://localhost:8080/"
        },
        "outputId": "34d5ce3c-81fa-49d3-92a3-b31fc1c6662a"
      },
      "execution_count": 51,
      "outputs": [
        {
          "output_type": "stream",
          "name": "stdout",
          "text": [
            "Resulstado optenido: {'Promedio Edad': 29.69911764705882, 'Mediana Edad': 28.0, 'Promedio Tiquete': 32.204207968574636, 'Mediana Tiquete': 14.4542}\n"
          ]
        }
      ]
    },
    {
      "cell_type": "markdown",
      "source": [
        "##**7. Medidas de dispersión**\n",
        "---\n",
        "1. Para cada una de las categorías de la variable **pclass** calcule la media y desviación estándar de la variable precio del tiquete (fare).\n",
        "2. Utilizar los datos hallados en la parte 1 para calcular el coeficiente de variación de la variable precio del tiquete (fare) en cada una de las categorías de la variable **pclass**. Comparar y analizar los resultados."
      ],
      "metadata": {
        "id": "YuEKVXxDWch1"
      }
    },
    {
      "cell_type": "code",
      "source": [
        "# Escriba aquí el código para realizar los cálculos solicitados\n",
        "medias_tiquete = df1.groupby('pclass')['fare'].mean()\n",
        "desviaciones_tiquete = df1.groupby('pclass')['fare'].std()\n",
        "\n",
        "\n",
        "coeficiente_variacion = (desviaciones_tiquete / medias_tiquete) * 100\n",
        "\n",
        "\n",
        "resultados_dispersion = pd.DataFrame({\n",
        "    'Media Tiquete': medias_tiquete,\n",
        "    'Desviación Estándar Tiquete': desviaciones_tiquete,\n",
        "    'Coeficiente de Variación (%)': coeficiente_variacion\n",
        "}).reset_index()\n",
        "\n",
        "# DataFrame con los resultado optenidos\n",
        "resultados_dispersion"
      ],
      "metadata": {
        "id": "qE5ZDR1TWlad",
        "colab": {
          "base_uri": "https://localhost:8080/",
          "height": 143
        },
        "outputId": "fe7275b9-f936-4624-b0ec-b19a8aee3dbf"
      },
      "execution_count": 52,
      "outputs": [
        {
          "output_type": "execute_result",
          "data": {
            "text/plain": [
              "   pclass  Media Tiquete  Desviación Estándar Tiquete  \\\n",
              "0       1      84.154687                    78.380373   \n",
              "1       2      20.662183                    13.417399   \n",
              "2       3      13.675550                    11.778142   \n",
              "\n",
              "   Coeficiente de Variación (%)  \n",
              "0                     93.138451  \n",
              "1                     64.936985  \n",
              "2                     86.125542  "
            ],
            "text/html": [
              "\n",
              "  <div id=\"df-a5ff3323-0baa-4f9b-a6eb-3c2758d92a75\" class=\"colab-df-container\">\n",
              "    <div>\n",
              "<style scoped>\n",
              "    .dataframe tbody tr th:only-of-type {\n",
              "        vertical-align: middle;\n",
              "    }\n",
              "\n",
              "    .dataframe tbody tr th {\n",
              "        vertical-align: top;\n",
              "    }\n",
              "\n",
              "    .dataframe thead th {\n",
              "        text-align: right;\n",
              "    }\n",
              "</style>\n",
              "<table border=\"1\" class=\"dataframe\">\n",
              "  <thead>\n",
              "    <tr style=\"text-align: right;\">\n",
              "      <th></th>\n",
              "      <th>pclass</th>\n",
              "      <th>Media Tiquete</th>\n",
              "      <th>Desviación Estándar Tiquete</th>\n",
              "      <th>Coeficiente de Variación (%)</th>\n",
              "    </tr>\n",
              "  </thead>\n",
              "  <tbody>\n",
              "    <tr>\n",
              "      <th>0</th>\n",
              "      <td>1</td>\n",
              "      <td>84.154687</td>\n",
              "      <td>78.380373</td>\n",
              "      <td>93.138451</td>\n",
              "    </tr>\n",
              "    <tr>\n",
              "      <th>1</th>\n",
              "      <td>2</td>\n",
              "      <td>20.662183</td>\n",
              "      <td>13.417399</td>\n",
              "      <td>64.936985</td>\n",
              "    </tr>\n",
              "    <tr>\n",
              "      <th>2</th>\n",
              "      <td>3</td>\n",
              "      <td>13.675550</td>\n",
              "      <td>11.778142</td>\n",
              "      <td>86.125542</td>\n",
              "    </tr>\n",
              "  </tbody>\n",
              "</table>\n",
              "</div>\n",
              "    <div class=\"colab-df-buttons\">\n",
              "\n",
              "  <div class=\"colab-df-container\">\n",
              "    <button class=\"colab-df-convert\" onclick=\"convertToInteractive('df-a5ff3323-0baa-4f9b-a6eb-3c2758d92a75')\"\n",
              "            title=\"Convert this dataframe to an interactive table.\"\n",
              "            style=\"display:none;\">\n",
              "\n",
              "  <svg xmlns=\"http://www.w3.org/2000/svg\" height=\"24px\" viewBox=\"0 -960 960 960\">\n",
              "    <path d=\"M120-120v-720h720v720H120Zm60-500h600v-160H180v160Zm220 220h160v-160H400v160Zm0 220h160v-160H400v160ZM180-400h160v-160H180v160Zm440 0h160v-160H620v160ZM180-180h160v-160H180v160Zm440 0h160v-160H620v160Z\"/>\n",
              "  </svg>\n",
              "    </button>\n",
              "\n",
              "  <style>\n",
              "    .colab-df-container {\n",
              "      display:flex;\n",
              "      gap: 12px;\n",
              "    }\n",
              "\n",
              "    .colab-df-convert {\n",
              "      background-color: #E8F0FE;\n",
              "      border: none;\n",
              "      border-radius: 50%;\n",
              "      cursor: pointer;\n",
              "      display: none;\n",
              "      fill: #1967D2;\n",
              "      height: 32px;\n",
              "      padding: 0 0 0 0;\n",
              "      width: 32px;\n",
              "    }\n",
              "\n",
              "    .colab-df-convert:hover {\n",
              "      background-color: #E2EBFA;\n",
              "      box-shadow: 0px 1px 2px rgba(60, 64, 67, 0.3), 0px 1px 3px 1px rgba(60, 64, 67, 0.15);\n",
              "      fill: #174EA6;\n",
              "    }\n",
              "\n",
              "    .colab-df-buttons div {\n",
              "      margin-bottom: 4px;\n",
              "    }\n",
              "\n",
              "    [theme=dark] .colab-df-convert {\n",
              "      background-color: #3B4455;\n",
              "      fill: #D2E3FC;\n",
              "    }\n",
              "\n",
              "    [theme=dark] .colab-df-convert:hover {\n",
              "      background-color: #434B5C;\n",
              "      box-shadow: 0px 1px 3px 1px rgba(0, 0, 0, 0.15);\n",
              "      filter: drop-shadow(0px 1px 2px rgba(0, 0, 0, 0.3));\n",
              "      fill: #FFFFFF;\n",
              "    }\n",
              "  </style>\n",
              "\n",
              "    <script>\n",
              "      const buttonEl =\n",
              "        document.querySelector('#df-a5ff3323-0baa-4f9b-a6eb-3c2758d92a75 button.colab-df-convert');\n",
              "      buttonEl.style.display =\n",
              "        google.colab.kernel.accessAllowed ? 'block' : 'none';\n",
              "\n",
              "      async function convertToInteractive(key) {\n",
              "        const element = document.querySelector('#df-a5ff3323-0baa-4f9b-a6eb-3c2758d92a75');\n",
              "        const dataTable =\n",
              "          await google.colab.kernel.invokeFunction('convertToInteractive',\n",
              "                                                    [key], {});\n",
              "        if (!dataTable) return;\n",
              "\n",
              "        const docLinkHtml = 'Like what you see? Visit the ' +\n",
              "          '<a target=\"_blank\" href=https://colab.research.google.com/notebooks/data_table.ipynb>data table notebook</a>'\n",
              "          + ' to learn more about interactive tables.';\n",
              "        element.innerHTML = '';\n",
              "        dataTable['output_type'] = 'display_data';\n",
              "        await google.colab.output.renderOutput(dataTable, element);\n",
              "        const docLink = document.createElement('div');\n",
              "        docLink.innerHTML = docLinkHtml;\n",
              "        element.appendChild(docLink);\n",
              "      }\n",
              "    </script>\n",
              "  </div>\n",
              "\n",
              "\n",
              "<div id=\"df-34c07196-d645-4dcb-9adb-62fb9d70bb63\">\n",
              "  <button class=\"colab-df-quickchart\" onclick=\"quickchart('df-34c07196-d645-4dcb-9adb-62fb9d70bb63')\"\n",
              "            title=\"Suggest charts\"\n",
              "            style=\"display:none;\">\n",
              "\n",
              "<svg xmlns=\"http://www.w3.org/2000/svg\" height=\"24px\"viewBox=\"0 0 24 24\"\n",
              "     width=\"24px\">\n",
              "    <g>\n",
              "        <path d=\"M19 3H5c-1.1 0-2 .9-2 2v14c0 1.1.9 2 2 2h14c1.1 0 2-.9 2-2V5c0-1.1-.9-2-2-2zM9 17H7v-7h2v7zm4 0h-2V7h2v10zm4 0h-2v-4h2v4z\"/>\n",
              "    </g>\n",
              "</svg>\n",
              "  </button>\n",
              "\n",
              "<style>\n",
              "  .colab-df-quickchart {\n",
              "      --bg-color: #E8F0FE;\n",
              "      --fill-color: #1967D2;\n",
              "      --hover-bg-color: #E2EBFA;\n",
              "      --hover-fill-color: #174EA6;\n",
              "      --disabled-fill-color: #AAA;\n",
              "      --disabled-bg-color: #DDD;\n",
              "  }\n",
              "\n",
              "  [theme=dark] .colab-df-quickchart {\n",
              "      --bg-color: #3B4455;\n",
              "      --fill-color: #D2E3FC;\n",
              "      --hover-bg-color: #434B5C;\n",
              "      --hover-fill-color: #FFFFFF;\n",
              "      --disabled-bg-color: #3B4455;\n",
              "      --disabled-fill-color: #666;\n",
              "  }\n",
              "\n",
              "  .colab-df-quickchart {\n",
              "    background-color: var(--bg-color);\n",
              "    border: none;\n",
              "    border-radius: 50%;\n",
              "    cursor: pointer;\n",
              "    display: none;\n",
              "    fill: var(--fill-color);\n",
              "    height: 32px;\n",
              "    padding: 0;\n",
              "    width: 32px;\n",
              "  }\n",
              "\n",
              "  .colab-df-quickchart:hover {\n",
              "    background-color: var(--hover-bg-color);\n",
              "    box-shadow: 0 1px 2px rgba(60, 64, 67, 0.3), 0 1px 3px 1px rgba(60, 64, 67, 0.15);\n",
              "    fill: var(--button-hover-fill-color);\n",
              "  }\n",
              "\n",
              "  .colab-df-quickchart-complete:disabled,\n",
              "  .colab-df-quickchart-complete:disabled:hover {\n",
              "    background-color: var(--disabled-bg-color);\n",
              "    fill: var(--disabled-fill-color);\n",
              "    box-shadow: none;\n",
              "  }\n",
              "\n",
              "  .colab-df-spinner {\n",
              "    border: 2px solid var(--fill-color);\n",
              "    border-color: transparent;\n",
              "    border-bottom-color: var(--fill-color);\n",
              "    animation:\n",
              "      spin 1s steps(1) infinite;\n",
              "  }\n",
              "\n",
              "  @keyframes spin {\n",
              "    0% {\n",
              "      border-color: transparent;\n",
              "      border-bottom-color: var(--fill-color);\n",
              "      border-left-color: var(--fill-color);\n",
              "    }\n",
              "    20% {\n",
              "      border-color: transparent;\n",
              "      border-left-color: var(--fill-color);\n",
              "      border-top-color: var(--fill-color);\n",
              "    }\n",
              "    30% {\n",
              "      border-color: transparent;\n",
              "      border-left-color: var(--fill-color);\n",
              "      border-top-color: var(--fill-color);\n",
              "      border-right-color: var(--fill-color);\n",
              "    }\n",
              "    40% {\n",
              "      border-color: transparent;\n",
              "      border-right-color: var(--fill-color);\n",
              "      border-top-color: var(--fill-color);\n",
              "    }\n",
              "    60% {\n",
              "      border-color: transparent;\n",
              "      border-right-color: var(--fill-color);\n",
              "    }\n",
              "    80% {\n",
              "      border-color: transparent;\n",
              "      border-right-color: var(--fill-color);\n",
              "      border-bottom-color: var(--fill-color);\n",
              "    }\n",
              "    90% {\n",
              "      border-color: transparent;\n",
              "      border-bottom-color: var(--fill-color);\n",
              "    }\n",
              "  }\n",
              "</style>\n",
              "\n",
              "  <script>\n",
              "    async function quickchart(key) {\n",
              "      const quickchartButtonEl =\n",
              "        document.querySelector('#' + key + ' button');\n",
              "      quickchartButtonEl.disabled = true;  // To prevent multiple clicks.\n",
              "      quickchartButtonEl.classList.add('colab-df-spinner');\n",
              "      try {\n",
              "        const charts = await google.colab.kernel.invokeFunction(\n",
              "            'suggestCharts', [key], {});\n",
              "      } catch (error) {\n",
              "        console.error('Error during call to suggestCharts:', error);\n",
              "      }\n",
              "      quickchartButtonEl.classList.remove('colab-df-spinner');\n",
              "      quickchartButtonEl.classList.add('colab-df-quickchart-complete');\n",
              "    }\n",
              "    (() => {\n",
              "      let quickchartButtonEl =\n",
              "        document.querySelector('#df-34c07196-d645-4dcb-9adb-62fb9d70bb63 button');\n",
              "      quickchartButtonEl.style.display =\n",
              "        google.colab.kernel.accessAllowed ? 'block' : 'none';\n",
              "    })();\n",
              "  </script>\n",
              "</div>\n",
              "\n",
              "  <div id=\"id_474c0be8-91b4-4ac2-af1c-190ee83f1e21\">\n",
              "    <style>\n",
              "      .colab-df-generate {\n",
              "        background-color: #E8F0FE;\n",
              "        border: none;\n",
              "        border-radius: 50%;\n",
              "        cursor: pointer;\n",
              "        display: none;\n",
              "        fill: #1967D2;\n",
              "        height: 32px;\n",
              "        padding: 0 0 0 0;\n",
              "        width: 32px;\n",
              "      }\n",
              "\n",
              "      .colab-df-generate:hover {\n",
              "        background-color: #E2EBFA;\n",
              "        box-shadow: 0px 1px 2px rgba(60, 64, 67, 0.3), 0px 1px 3px 1px rgba(60, 64, 67, 0.15);\n",
              "        fill: #174EA6;\n",
              "      }\n",
              "\n",
              "      [theme=dark] .colab-df-generate {\n",
              "        background-color: #3B4455;\n",
              "        fill: #D2E3FC;\n",
              "      }\n",
              "\n",
              "      [theme=dark] .colab-df-generate:hover {\n",
              "        background-color: #434B5C;\n",
              "        box-shadow: 0px 1px 3px 1px rgba(0, 0, 0, 0.15);\n",
              "        filter: drop-shadow(0px 1px 2px rgba(0, 0, 0, 0.3));\n",
              "        fill: #FFFFFF;\n",
              "      }\n",
              "    </style>\n",
              "    <button class=\"colab-df-generate\" onclick=\"generateWithVariable('resultados_dispersion')\"\n",
              "            title=\"Generate code using this dataframe.\"\n",
              "            style=\"display:none;\">\n",
              "\n",
              "  <svg xmlns=\"http://www.w3.org/2000/svg\" height=\"24px\"viewBox=\"0 0 24 24\"\n",
              "       width=\"24px\">\n",
              "    <path d=\"M7,19H8.4L18.45,9,17,7.55,7,17.6ZM5,21V16.75L18.45,3.32a2,2,0,0,1,2.83,0l1.4,1.43a1.91,1.91,0,0,1,.58,1.4,1.91,1.91,0,0,1-.58,1.4L9.25,21ZM18.45,9,17,7.55Zm-12,3A5.31,5.31,0,0,0,4.9,8.1,5.31,5.31,0,0,0,1,6.5,5.31,5.31,0,0,0,4.9,4.9,5.31,5.31,0,0,0,6.5,1,5.31,5.31,0,0,0,8.1,4.9,5.31,5.31,0,0,0,12,6.5,5.46,5.46,0,0,0,6.5,12Z\"/>\n",
              "  </svg>\n",
              "    </button>\n",
              "    <script>\n",
              "      (() => {\n",
              "      const buttonEl =\n",
              "        document.querySelector('#id_474c0be8-91b4-4ac2-af1c-190ee83f1e21 button.colab-df-generate');\n",
              "      buttonEl.style.display =\n",
              "        google.colab.kernel.accessAllowed ? 'block' : 'none';\n",
              "\n",
              "      buttonEl.onclick = () => {\n",
              "        google.colab.notebook.generateWithVariable('resultados_dispersion');\n",
              "      }\n",
              "      })();\n",
              "    </script>\n",
              "  </div>\n",
              "\n",
              "    </div>\n",
              "  </div>\n"
            ],
            "application/vnd.google.colaboratory.intrinsic+json": {
              "type": "dataframe",
              "variable_name": "resultados_dispersion",
              "summary": "{\n  \"name\": \"resultados_dispersion\",\n  \"rows\": 3,\n  \"fields\": [\n    {\n      \"column\": \"pclass\",\n      \"properties\": {\n        \"dtype\": \"number\",\n        \"std\": 1,\n        \"min\": 1,\n        \"max\": 3,\n        \"num_unique_values\": 3,\n        \"samples\": [\n          1,\n          2,\n          3\n        ],\n        \"semantic_type\": \"\",\n        \"description\": \"\"\n      }\n    },\n    {\n      \"column\": \"Media Tiquete\",\n      \"properties\": {\n        \"dtype\": \"number\",\n        \"std\": 38.83173092143531,\n        \"min\": 13.675550101832993,\n        \"max\": 84.1546875,\n        \"num_unique_values\": 3,\n        \"samples\": [\n          84.1546875,\n          20.662183152173913,\n          13.675550101832993\n        ],\n        \"semantic_type\": \"\",\n        \"description\": \"\"\n      }\n    },\n    {\n      \"column\": \"Desviaci\\u00f3n Est\\u00e1ndar Tiquete\",\n      \"properties\": {\n        \"dtype\": \"number\",\n        \"std\": 37.98844628499314,\n        \"min\": 11.778141704387311,\n        \"max\": 78.38037264672882,\n        \"num_unique_values\": 3,\n        \"samples\": [\n          78.38037264672882,\n          13.417398756149339,\n          11.778141704387311\n        ],\n        \"semantic_type\": \"\",\n        \"description\": \"\"\n      }\n    },\n    {\n      \"column\": \"Coeficiente de Variaci\\u00f3n (%)\",\n      \"properties\": {\n        \"dtype\": \"number\",\n        \"std\": 14.682521171626416,\n        \"min\": 64.93698491264058,\n        \"max\": 93.13845131529817,\n        \"num_unique_values\": 3,\n        \"samples\": [\n          93.13845131529817,\n          64.93698491264058,\n          86.12554242193619\n        ],\n        \"semantic_type\": \"\",\n        \"description\": \"\"\n      }\n    }\n  ]\n}"
            }
          },
          "metadata": {},
          "execution_count": 52
        }
      ]
    },
    {
      "cell_type": "markdown",
      "metadata": {
        "id": "4luKKP58V-Qs"
      },
      "source": [
        "**¡Felicitaciones!** ¡Muy buen trabajo!\n",
        "\n",
        "## **Entrega**\n",
        "\n",
        "Para entregar el notebook por favor haga lo siguiente:\n",
        "1. Descargue el notebook (`Archivo` -> `Descargar .ipynb`).\n",
        "2. Importelo como archivo HTML.\n",
        "3. Realice el envío del archivo en la tarea dispuesta en el aula virtual. No olvide escribir los nombres de los integrantes del grupo en el momento de hacer la entrega.\n"
      ]
    },
    {
      "cell_type": "markdown",
      "source": [
        "## **Recursos adicionales**\n",
        "---\n",
        "\n",
        "Para complemetar sobre el uso de funciones en Python, puede consultar  la [documentación oficial](https://pandas.pydata.org/pandas-docs/stable/reference/index.html), y en especial la [Guía de usuario](https://pandas.pydata.org/pandas-docs/stable/user_guide/index.html) de *pandas*.\n",
        "\n",
        "Además, a continuación se presenta una lista de recursos adicionales que le podrán ser de utilidad:\n",
        "\n",
        "\n",
        "*  [Data vedas - Exploración y preparación de los datos](https://www.datavedas.com/data-exploration-and-preparation/)\n",
        "*  [Kaggle - Pandas](https://www.kaggle.com/learn/pandas)\n",
        "*  [CodeCademy - Learn Data Analysis with Pandas](https://www.codecademy.com/learn/data-processing-pandas)\n",
        "\n",
        "* [*Matplotlib*: Visualization with Python](http://www.matplotlib.org)\n",
        "* [Matplotlib Gallery - (Ejemplos)](http://matplotlib.org/gallery.html) - Se recomienda revisar la galería y ajustar el código de las visualizaciones requeridas.\n",
        "* [Nicolas P. Rougier - *Matplotlib* tutorial](http://www.labri.fr/perso/nrougier/teaching/matplotlib/)\n",
        "* [IBM (Coursera) - Data Visualization with *Python*](https://www.coursera.org/learn/python-for-data-visualization)\n",
        "* [DataCamp - Introduction to Data Visualization with *Matplotlib*](https://www.datacamp.com/courses/introduction-to-matplotlib)"
      ],
      "metadata": {
        "id": "y505PavsC9KQ"
      }
    }
  ]
}